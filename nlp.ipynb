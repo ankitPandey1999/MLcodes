{
 "cells": [
  {
   "cell_type": "code",
   "execution_count": 1,
   "metadata": {},
   "outputs": [
    {
     "name": "stdout",
     "output_type": "stream",
     "text": [
      "showing info https://raw.githubusercontent.com/nltk/nltk_data/gh-pages/index.xml\n"
     ]
    },
    {
     "data": {
      "text/plain": [
       "True"
      ]
     },
     "execution_count": 1,
     "metadata": {},
     "output_type": "execute_result"
    }
   ],
   "source": [
    "import pandas as pd\n",
    "import matplotlib.pyplot as plt\n",
    "import seaborn as sns\n",
    "import numpy as np\n",
    "from pandas import datetime\n",
    "from pandas import Series\n",
    "from scipy.stats import norm\n",
    "from sklearn.preprocessing import StandardScaler\n",
    "from scipy import stats\n",
    "import warnings\n",
    "warnings.filterwarnings('ignore')\n",
    "%matplotlib inline\n",
    "import nltk\n",
    "nltk.download()"
   ]
  },
  {
   "cell_type": "code",
   "execution_count": 2,
   "metadata": {},
   "outputs": [],
   "source": [
    "from nltk.corpus import names"
   ]
  },
  {
   "cell_type": "code",
   "execution_count": 3,
   "metadata": {},
   "outputs": [],
   "source": [
    " from nltk.stem.porter import PorterStemmer "
   ]
  },
  {
   "cell_type": "code",
   "execution_count": 4,
   "metadata": {},
   "outputs": [],
   "source": [
    "porter_stemmer = PorterStemmer()"
   ]
  },
  {
   "cell_type": "code",
   "execution_count": 5,
   "metadata": {},
   "outputs": [
    {
     "data": {
      "text/plain": [
       "'machin'"
      ]
     },
     "execution_count": 5,
     "metadata": {},
     "output_type": "execute_result"
    }
   ],
   "source": [
    "porter_stemmer.stem('machines') "
   ]
  },
  {
   "cell_type": "code",
   "execution_count": 6,
   "metadata": {},
   "outputs": [],
   "source": [
    "from nltk.stem import WordNetLemmatizer"
   ]
  },
  {
   "cell_type": "code",
   "execution_count": 7,
   "metadata": {},
   "outputs": [],
   "source": [
    "lemmatizer = WordNetLemmatizer()"
   ]
  },
  {
   "cell_type": "code",
   "execution_count": 8,
   "metadata": {},
   "outputs": [
    {
     "data": {
      "text/plain": [
       "'machine'"
      ]
     },
     "execution_count": 8,
     "metadata": {},
     "output_type": "execute_result"
    }
   ],
   "source": [
    "lemmatizer.lemmatize('machines') "
   ]
  },
  {
   "cell_type": "code",
   "execution_count": 9,
   "metadata": {},
   "outputs": [],
   "source": [
    "from sklearn.datasets import fetch_20newsgroups"
   ]
  },
  {
   "cell_type": "code",
   "execution_count": 10,
   "metadata": {},
   "outputs": [],
   "source": [
    " groups = fetch_20newsgroups()"
   ]
  },
  {
   "cell_type": "code",
   "execution_count": 17,
   "metadata": {},
   "outputs": [
    {
     "data": {
      "text/plain": [
       "dict_keys(['data', 'filenames', 'target_names', 'target', 'DESCR'])"
      ]
     },
     "execution_count": 17,
     "metadata": {},
     "output_type": "execute_result"
    }
   ],
   "source": [
    " groups.keys() "
   ]
  },
  {
   "cell_type": "code",
   "execution_count": 12,
   "metadata": {},
   "outputs": [
    {
     "data": {
      "text/plain": [
       "['alt.atheism',\n",
       " 'comp.graphics',\n",
       " 'comp.os.ms-windows.misc',\n",
       " 'comp.sys.ibm.pc.hardware',\n",
       " 'comp.sys.mac.hardware',\n",
       " 'comp.windows.x',\n",
       " 'misc.forsale',\n",
       " 'rec.autos',\n",
       " 'rec.motorcycles',\n",
       " 'rec.sport.baseball',\n",
       " 'rec.sport.hockey',\n",
       " 'sci.crypt',\n",
       " 'sci.electronics',\n",
       " 'sci.med',\n",
       " 'sci.space',\n",
       " 'soc.religion.christian',\n",
       " 'talk.politics.guns',\n",
       " 'talk.politics.mideast',\n",
       " 'talk.politics.misc',\n",
       " 'talk.religion.misc']"
      ]
     },
     "execution_count": 12,
     "metadata": {},
     "output_type": "execute_result"
    }
   ],
   "source": [
    " groups['target_names']"
   ]
  },
  {
   "cell_type": "code",
   "execution_count": 13,
   "metadata": {},
   "outputs": [
    {
     "data": {
      "text/plain": [
       "array([7, 4, 4, ..., 3, 1, 8])"
      ]
     },
     "execution_count": 13,
     "metadata": {},
     "output_type": "execute_result"
    }
   ],
   "source": [
    "groups.target"
   ]
  },
  {
   "cell_type": "code",
   "execution_count": 16,
   "metadata": {},
   "outputs": [
    {
     "data": {
      "text/plain": [
       "array([ 0,  1,  2,  3,  4,  5,  6,  7,  8,  9, 10, 11, 12, 13, 14, 15, 16,\n",
       "       17, 18, 19])"
      ]
     },
     "execution_count": 16,
     "metadata": {},
     "output_type": "execute_result"
    }
   ],
   "source": [
    "#Then what are the distinct values for these integers? We can use the unique function from NumPy to figure it out:\n",
    "    \n",
    "np.unique(groups.target)"
   ]
  },
  {
   "cell_type": "code",
   "execution_count": 18,
   "metadata": {},
   "outputs": [
    {
     "data": {
      "text/plain": [
       "\"From: lerxst@wam.umd.edu (where's my thing)\\nSubject: WHAT car is this!?\\nNntp-Posting-Host: rac3.wam.umd.edu\\nOrganization: University of Maryland, College Park\\nLines: 15\\n\\n I was wondering if anyone out there could enlighten me on this car I saw\\nthe other day. It was a 2-door sports car, looked to be from the late 60s/\\nearly 70s. It was called a Bricklin. The doors were really small. In addition,\\nthe front bumper was separate from the rest of the body. This is \\nall I know. If anyone can tellme a model name, engine specs, years\\nof production, where this car is made, history, or whatever info you\\nhave on this funky looking car, please e-mail.\\n\\nThanks,\\n- IL\\n   ---- brought to you by your neighborhood Lerxst ----\\n\\n\\n\\n\\n\""
      ]
     },
     "execution_count": 18,
     "metadata": {},
     "output_type": "execute_result"
    }
   ],
   "source": [
    "# So 20 different topics present Let’s now have a look at the first document, its topic number, and name: \n",
    "\n",
    "groups.data[0] "
   ]
  },
  {
   "cell_type": "code",
   "execution_count": 19,
   "metadata": {},
   "outputs": [
    {
     "data": {
      "text/plain": [
       "7"
      ]
     },
     "execution_count": 19,
     "metadata": {},
     "output_type": "execute_result"
    }
   ],
   "source": [
    " groups.target[0]"
   ]
  },
  {
   "cell_type": "code",
   "execution_count": 20,
   "metadata": {},
   "outputs": [
    {
     "data": {
      "text/plain": [
       "'rec.autos'"
      ]
     },
     "execution_count": 20,
     "metadata": {},
     "output_type": "execute_result"
    }
   ],
   "source": [
    " groups.target_names[groups.target[0]]"
   ]
  },
  {
   "cell_type": "code",
   "execution_count": 21,
   "metadata": {},
   "outputs": [
    {
     "data": {
      "text/plain": [
       "'comp.sys.mac.hardware'"
      ]
     },
     "execution_count": 21,
     "metadata": {},
     "output_type": "execute_result"
    }
   ],
   "source": [
    " groups.target_names[groups.target[1]]"
   ]
  },
  {
   "cell_type": "code",
   "execution_count": 22,
   "metadata": {},
   "outputs": [
    {
     "data": {
      "text/plain": [
       "\"From: guykuo@carson.u.washington.edu (Guy Kuo)\\nSubject: SI Clock Poll - Final Call\\nSummary: Final call for SI clock reports\\nKeywords: SI,acceleration,clock,upgrade\\nArticle-I.D.: shelley.1qvfo9INNc3s\\nOrganization: University of Washington\\nLines: 11\\nNNTP-Posting-Host: carson.u.washington.edu\\n\\nA fair number of brave souls who upgraded their SI clock oscillator have\\nshared their experiences for this poll. Please send a brief message detailing\\nyour experiences with the procedure. Top speed attained, CPU rated speed,\\nadd on cards and adapters, heat sinks, hour of usage per day, floppy disk\\nfunctionality with 800 and 1.4 m floppies are especially requested.\\n\\nI will be summarizing in the next two days, so please add to the network\\nknowledge base if you have done the clock upgrade and haven't answered this\\npoll. Thanks.\\n\\nGuy Kuo <guykuo@u.washington.edu>\\n\""
      ]
     },
     "execution_count": 22,
     "metadata": {},
     "output_type": "execute_result"
    }
   ],
   "source": [
    "groups.data[1]"
   ]
  },
  {
   "cell_type": "code",
   "execution_count": 24,
   "metadata": {},
   "outputs": [
    {
     "data": {
      "text/plain": [
       "721"
      ]
     },
     "execution_count": 24,
     "metadata": {},
     "output_type": "execute_result"
    }
   ],
   "source": [
    "# Length of first data\n",
    "len(groups.data[0]) "
   ]
  },
  {
   "cell_type": "code",
   "execution_count": 25,
   "metadata": {},
   "outputs": [
    {
     "data": {
      "text/plain": [
       "<matplotlib.axes._subplots.AxesSubplot at 0x1f5bb5e13c8>"
      ]
     },
     "execution_count": 25,
     "metadata": {},
     "output_type": "execute_result"
    },
    {
     "data": {
      "image/png": "[encoded data removed]",
      "text/plain": [
       "<Figure size 432x288 with 1 Axes>"
      ]
     },
     "metadata": {
      "needs_background": "light"
     },
     "output_type": "display_data"
    }
   ],
   "source": [
    "# Data Visualization\n",
    "\n",
    "sns.distplot(groups.target)"
   ]
  },
  {
   "cell_type": "code",
   "execution_count": 26,
   "metadata": {},
   "outputs": [],
   "source": [
    "plt.show()"
   ]
  },
  {
   "cell_type": "code",
   "execution_count": 27,
   "metadata": {},
   "outputs": [
    {
     "name": "stdout",
     "output_type": "stream",
     "text": [
      "['00', '000', '0d', '0t', '10', '100', '11', '12', '13', '14', '145', '15', '16', '17', '18', '19', '1993', '1d9', '20', '21', '22', '23', '24', '25', '26', '27', '28', '29', '30', '31', '32', '33', '34', '34u', '35', '40', '45', '50', '55', '80', '92', '93', '__', '___', 'a86', 'able', 'ac', 'access', 'actually', 'address', 'ago', 'agree', 'al', 'american', 'andrew', 'answer', 'anybody', 'apple', 'application', 'apr', 'april', 'area', 'argument', 'armenian', 'armenians', 'article', 'ask', 'asked', 'att', 'au', 'available', 'away', 'ax', 'b8f', 'bad', 'based', 'believe', 'berkeley', 'best', 'better', 'bible', 'big', 'bike', 'bit', 'black', 'board', 'body', 'book', 'box', 'buy', 'ca', 'california', 'called', 'came', 'canada', 'car', 'card', 'care', 'case', 'cause', 'cc', 'center', 'certain', 'certainly', 'change', 'check', 'children', 'chip', 'christ', 'christian', 'christians', 'church', 'city', 'claim', 'clinton', 'clipper', 'cmu', 'code', 'college', 'color', 'colorado', 'columbia', 'com', 'come', 'comes', 'company', 'computer', 'consider', 'contact', 'control', 'copy', 'correct', 'cost', 'country', 'couple', 'course', 'cs', 'current', 'cwru', 'data', 'dave', 'david', 'day', 'days', 'db', 'deal', 'death', 'department', 'dept', 'did', 'didn', 'difference', 'different', 'disk', 'display', 'distribution', 'division', 'dod', 'does', 'doesn', 'doing', 'don', 'dos', 'drive', 'driver', 'drivers', 'earth', 'edu', 'email', 'encryption', 'end', 'engineering', 'especially', 'evidence', 'exactly', 'example', 'experience', 'fact', 'faith', 'faq', 'far', 'fast', 'fax', 'feel', 'file', 'files', 'following', 'free', 'ftp', 'g9v', 'game', 'games', 'general', 'getting', 'given', 'gmt', 'god', 'going', 'good', 'got', 'gov', 'government', 'graphics', 'great', 'group', 'groups', 'guess', 'gun', 'guns', 'hand', 'hard', 'hardware', 'having', 'health', 'heard', 'hell', 'help', 'hi', 'high', 'history', 'hockey', 'home', 'hope', 'host', 'house', 'hp', 'human', 'ibm', 'idea', 'image', 'important', 'include', 'including', 'info', 'information', 'instead', 'institute', 'interested', 'internet', 'isn', 'israel', 'israeli', 'issue', 'james', 'jesus', 'jewish', 'jews', 'jim', 'john', 'just', 'keith', 'key', 'keys', 'keywords', 'kind', 'know', 'known', 'large', 'later', 'law', 'left', 'let', 'level', 'life', 'like', 'likely', 'line', 'lines', 'list', 'little', 'live', 'll', 'local', 'long', 'look', 'looking', 'lot', 'love', 'low', 'ma', 'mac', 'machine', 'mail', 'major', 'make', 'makes', 'making', 'man', 'mark', 'matter', 'max', 'maybe', 'mean', 'means', 'memory', 'men', 'message', 'michael', 'mike', 'mind', 'mit', 'money', 'mr', 'ms', 'na', 'nasa', 'national', 'need', 'net', 'netcom', 'network', 'new', 'news', 'newsreader', 'nice', 'nntp', 'non', 'note', 'number', 'numbers', 'office', 'oh', 'ohio', 'old', 'open', 'opinions', 'order', 'org', 'organization', 'original', 'output', 'package', 'paul', 'pay', 'pc', 'people', 'period', 'person', 'phone', 'pitt', 'pl', 'place', 'play', 'players', 'point', 'points', 'police', 'possible', 'post', 'posting', 'power', 'president', 'press', 'pretty', 'price', 'private', 'probably', 'problem', 'problems', 'program', 'programs', 'provide', 'pub', 'public', 'question', 'questions', 'quite', 'read', 'reading', 'real', 'really', 'reason', 'religion', 'remember', 'reply', 'research', 'right', 'rights', 'robert', 'run', 'running', 'said', 'sale', 'san', 'saw', 'say', 'saying', 'says', 'school', 'science', 'screen', 'scsi', 'season', 'second', 'security', 'seen', 'send', 'sense', 'server', 'service', 'services', 'set', 'similar', 'simple', 'simply', 'single', 'size', 'small', 'software', 'sorry', 'sort', 'sound', 'source', 'space', 'speed', 'st', 'standard', 'start', 'started', 'state', 'states', 'steve', 'stop', 'stuff', 'subject', 'summary', 'sun', 'support', 'sure', 'systems', 'talk', 'talking', 'team', 'technology', 'tell', 'test', 'text', 'thanks', 'thing', 'things', 'think', 'thought', 'time', 'times', 'today', 'told', 'took', 'toronto', 'tried', 'true', 'truth', 'try', 'trying', 'turkish', 'type', 'uiuc', 'uk', 'understand', 'university', 'unix', 'unless', 'usa', 'use', 'used', 'user', 'using', 'usually', 'uucp', 've', 'version', 'video', 'view', 'virginia', 'vs', 'want', 'wanted', 'war', 'washington', 'way', 'went', 'white', 'win', 'window', 'windows', 'won', 'word', 'words', 'work', 'working', 'works', 'world', 'wouldn', 'write', 'writes', 'wrong', 'wrote', 'year', 'years', 'yes', 'york']\n"
     ]
    },
    {
     "data": {
      "image/png": "[encoded data removed]",
      "text/plain": [
       "<Figure size 432x288 with 1 Axes>"
      ]
     },
     "metadata": {
      "needs_background": "light"
     },
     "output_type": "display_data"
    }
   ],
   "source": [
    "#The following code displays a histogram of the 500 highest word counts: \n",
    "from sklearn.feature_extraction.text import CountVectorizer \n",
    "from sklearn.datasets import fetch_20newsgroups \n",
    "cv = CountVectorizer(stop_words=\"english\", max_features=500) \n",
    "groups = fetch_20newsgroups() \n",
    "transformed = cv.fit_transform(groups.data) \n",
    "print(cv.get_feature_names()) \n",
    "sns.distplot(np.log(transformed.toarray().sum(axis=0))) \n",
    "plt.xlabel('Log Count') \n",
    "plt.ylabel('Frequency')\n",
    "plt.title('Distribution Plot of 500 Word Counts') \n",
    "plt.show()"
   ]
  },
  {
   "cell_type": "code",
   "execution_count": 51,
   "metadata": {},
   "outputs": [
    {
     "data": {
      "text/plain": [
       "['able',\n",
       " 'accept',\n",
       " 'access',\n",
       " 'according',\n",
       " 'act',\n",
       " 'action',\n",
       " 'actually',\n",
       " 'add',\n",
       " 'address',\n",
       " 'ago',\n",
       " 'agree',\n",
       " 'algorithm',\n",
       " 'allow',\n",
       " 'american',\n",
       " 'anonymous',\n",
       " 'answer',\n",
       " 'anybody',\n",
       " 'apple',\n",
       " 'application',\n",
       " 'apr',\n",
       " 'april',\n",
       " 'arab',\n",
       " 'area',\n",
       " 'argument',\n",
       " 'armenian',\n",
       " 'article',\n",
       " 'ask',\n",
       " 'asked',\n",
       " 'assume',\n",
       " 'atheist',\n",
       " 'attack',\n",
       " 'attempt',\n",
       " 'available',\n",
       " 'away',\n",
       " 'bad',\n",
       " 'based',\n",
       " 'belief',\n",
       " 'believe',\n",
       " 'best',\n",
       " 'better',\n",
       " 'bible',\n",
       " 'big',\n",
       " 'bike',\n",
       " 'bit',\n",
       " 'black',\n",
       " 'board',\n",
       " 'body',\n",
       " 'book',\n",
       " 'box',\n",
       " 'build',\n",
       " 'bus',\n",
       " 'buy',\n",
       " 'ca',\n",
       " 'california',\n",
       " 'called',\n",
       " 'came',\n",
       " 'canada',\n",
       " 'car',\n",
       " 'card',\n",
       " 'care',\n",
       " 'carry',\n",
       " 'case',\n",
       " 'cause',\n",
       " 'center',\n",
       " 'certain',\n",
       " 'certainly',\n",
       " 'chance',\n",
       " 'change',\n",
       " 'check',\n",
       " 'child',\n",
       " 'chip',\n",
       " 'christian',\n",
       " 'church',\n",
       " 'city',\n",
       " 'claim',\n",
       " 'clear',\n",
       " 'clinton',\n",
       " 'clipper',\n",
       " 'code',\n",
       " 'college',\n",
       " 'color',\n",
       " 'come',\n",
       " 'coming',\n",
       " 'command',\n",
       " 'comment',\n",
       " 'common',\n",
       " 'communication',\n",
       " 'company',\n",
       " 'computer',\n",
       " 'consider',\n",
       " 'considered',\n",
       " 'contact',\n",
       " 'control',\n",
       " 'copy',\n",
       " 'cost',\n",
       " 'country',\n",
       " 'couple',\n",
       " 'course',\n",
       " 'create',\n",
       " 'crime',\n",
       " 'current',\n",
       " 'cut',\n",
       " 'data',\n",
       " 'david',\n",
       " 'day',\n",
       " 'db',\n",
       " 'deal',\n",
       " 'death',\n",
       " 'department',\n",
       " 'device',\n",
       " 'did',\n",
       " 'difference',\n",
       " 'different',\n",
       " 'discussion',\n",
       " 'disk',\n",
       " 'display',\n",
       " 'division',\n",
       " 'doe',\n",
       " 'doing',\n",
       " 'drive',\n",
       " 'driver',\n",
       " 'drug',\n",
       " 'early',\n",
       " 'earth',\n",
       " 'easy',\n",
       " 'effect',\n",
       " 'email',\n",
       " 'encryption',\n",
       " 'end',\n",
       " 'engineering',\n",
       " 'entry',\n",
       " 'error',\n",
       " 'especially',\n",
       " 'event',\n",
       " 'evidence',\n",
       " 'exactly',\n",
       " 'example',\n",
       " 'expect',\n",
       " 'experience',\n",
       " 'explain',\n",
       " 'face',\n",
       " 'fact',\n",
       " 'faith',\n",
       " 'far',\n",
       " 'fast',\n",
       " 'federal',\n",
       " 'feel',\n",
       " 'figure',\n",
       " 'file',\n",
       " 'final',\n",
       " 'following',\n",
       " 'force',\n",
       " 'form',\n",
       " 'free',\n",
       " 'friend',\n",
       " 'ftp',\n",
       " 'function',\n",
       " 'game',\n",
       " 'general',\n",
       " 'getting',\n",
       " 'given',\n",
       " 'gmt',\n",
       " 'god',\n",
       " 'going',\n",
       " 'good',\n",
       " 'got',\n",
       " 'government',\n",
       " 'graphic',\n",
       " 'great',\n",
       " 'greek',\n",
       " 'ground',\n",
       " 'group',\n",
       " 'guess',\n",
       " 'gun',\n",
       " 'guy',\n",
       " 'ha',\n",
       " 'hand',\n",
       " 'hard',\n",
       " 'hardware',\n",
       " 'having',\n",
       " 'head',\n",
       " 'health',\n",
       " 'hear',\n",
       " 'heard',\n",
       " 'hell',\n",
       " 'help',\n",
       " 'high',\n",
       " 'history',\n",
       " 'hit',\n",
       " 'hockey',\n",
       " 'hold',\n",
       " 'home',\n",
       " 'hope',\n",
       " 'house',\n",
       " 'human',\n",
       " 'ibm',\n",
       " 'idea',\n",
       " 'image',\n",
       " 'important',\n",
       " 'include',\n",
       " 'includes',\n",
       " 'including',\n",
       " 'individual',\n",
       " 'info',\n",
       " 'information',\n",
       " 'instead',\n",
       " 'institute',\n",
       " 'interested',\n",
       " 'interesting',\n",
       " 'international',\n",
       " 'internet',\n",
       " 'israel',\n",
       " 'israeli',\n",
       " 'issue',\n",
       " 'jesus',\n",
       " 'jew',\n",
       " 'jewish',\n",
       " 'job',\n",
       " 'john',\n",
       " 'just',\n",
       " 'key',\n",
       " 'kill',\n",
       " 'killed',\n",
       " 'kind',\n",
       " 'know',\n",
       " 'known',\n",
       " 'la',\n",
       " 'large',\n",
       " 'later',\n",
       " 'law',\n",
       " 'le',\n",
       " 'lead',\n",
       " 'league',\n",
       " 'left',\n",
       " 'let',\n",
       " 'level',\n",
       " 'life',\n",
       " 'light',\n",
       " 'like',\n",
       " 'likely',\n",
       " 'line',\n",
       " 'list',\n",
       " 'little',\n",
       " 'live',\n",
       " 'local',\n",
       " 'long',\n",
       " 'longer',\n",
       " 'look',\n",
       " 'looking',\n",
       " 'lost',\n",
       " 'lot',\n",
       " 'love',\n",
       " 'low',\n",
       " 'mac',\n",
       " 'machine',\n",
       " 'mail',\n",
       " 'major',\n",
       " 'make',\n",
       " 'making',\n",
       " 'man',\n",
       " 'manager',\n",
       " 'mark',\n",
       " 'matter',\n",
       " 'maybe',\n",
       " 'mean',\n",
       " 'medical',\n",
       " 'member',\n",
       " 'memory',\n",
       " 'men',\n",
       " 'message',\n",
       " 'michael',\n",
       " 'mike',\n",
       " 'military',\n",
       " 'million',\n",
       " 'mind',\n",
       " 'mode',\n",
       " 'model',\n",
       " 'money',\n",
       " 'monitor',\n",
       " 'month',\n",
       " 'moral',\n",
       " 'mouse',\n",
       " 'muslim',\n",
       " 'na',\n",
       " 'nasa',\n",
       " 'national',\n",
       " 'near',\n",
       " 'need',\n",
       " 'needed',\n",
       " 'network',\n",
       " 'new',\n",
       " 'news',\n",
       " 'nice',\n",
       " 'north',\n",
       " 'note',\n",
       " 'number',\n",
       " 'offer',\n",
       " 'office',\n",
       " 'old',\n",
       " 'open',\n",
       " 'opinion',\n",
       " 'order',\n",
       " 'original',\n",
       " 'output',\n",
       " 'package',\n",
       " 'page',\n",
       " 'particular',\n",
       " 'past',\n",
       " 'pay',\n",
       " 'pc',\n",
       " 'people',\n",
       " 'period',\n",
       " 'person',\n",
       " 'personal',\n",
       " 'phone',\n",
       " 'place',\n",
       " 'play',\n",
       " 'player',\n",
       " 'point',\n",
       " 'police',\n",
       " 'policy',\n",
       " 'political',\n",
       " 'position',\n",
       " 'possible',\n",
       " 'post',\n",
       " 'posted',\n",
       " 'posting',\n",
       " 'power',\n",
       " 'president',\n",
       " 'press',\n",
       " 'pretty',\n",
       " 'previous',\n",
       " 'price',\n",
       " 'private',\n",
       " 'probably',\n",
       " 'problem',\n",
       " 'product',\n",
       " 'program',\n",
       " 'project',\n",
       " 'provide',\n",
       " 'public',\n",
       " 'purpose',\n",
       " 'question',\n",
       " 'quite',\n",
       " 'radio',\n",
       " 'rate',\n",
       " 'read',\n",
       " 'reading',\n",
       " 'real',\n",
       " 'really',\n",
       " 'reason',\n",
       " 'red',\n",
       " 'reference',\n",
       " 'religion',\n",
       " 'religious',\n",
       " 'remember',\n",
       " 'reply',\n",
       " 'report',\n",
       " 'research',\n",
       " 'response',\n",
       " 'rest',\n",
       " 'result',\n",
       " 'return',\n",
       " 'right',\n",
       " 'road',\n",
       " 'rule',\n",
       " 'run',\n",
       " 'running',\n",
       " 'russian',\n",
       " 'said',\n",
       " 'sale',\n",
       " 'san',\n",
       " 'save',\n",
       " 'saw',\n",
       " 'say',\n",
       " 'saying',\n",
       " 'school',\n",
       " 'science',\n",
       " 'screen',\n",
       " 'scsi',\n",
       " 'second',\n",
       " 'section',\n",
       " 'security',\n",
       " 'seen',\n",
       " 'sell',\n",
       " 'send',\n",
       " 'sense',\n",
       " 'sent',\n",
       " 'serial',\n",
       " 'server',\n",
       " 'service',\n",
       " 'set',\n",
       " 'shall',\n",
       " 'short',\n",
       " 'shot',\n",
       " 'similar',\n",
       " 'simple',\n",
       " 'simply',\n",
       " 'single',\n",
       " 'site',\n",
       " 'situation',\n",
       " 'size',\n",
       " 'small',\n",
       " 'software',\n",
       " 'sort',\n",
       " 'sound',\n",
       " 'source',\n",
       " 'space',\n",
       " 'special',\n",
       " 'specific',\n",
       " 'speed',\n",
       " 'standard',\n",
       " 'start',\n",
       " 'started',\n",
       " 'state',\n",
       " 'statement',\n",
       " 'steve',\n",
       " 'stop',\n",
       " 'strong',\n",
       " 'study',\n",
       " 'stuff',\n",
       " 'subject',\n",
       " 'sun',\n",
       " 'support',\n",
       " 'sure',\n",
       " 'taken',\n",
       " 'taking',\n",
       " 'talk',\n",
       " 'talking',\n",
       " 'tape',\n",
       " 'tax',\n",
       " 'team',\n",
       " 'technical',\n",
       " 'technology',\n",
       " 'tell',\n",
       " 'term',\n",
       " 'test',\n",
       " 'texas',\n",
       " 'text',\n",
       " 'thanks',\n",
       " 'thing',\n",
       " 'think',\n",
       " 'thinking',\n",
       " 'thought',\n",
       " 'time',\n",
       " 'tin',\n",
       " 'today',\n",
       " 'told',\n",
       " 'took',\n",
       " 'total',\n",
       " 'tried',\n",
       " 'true',\n",
       " 'truth',\n",
       " 'try',\n",
       " 'trying',\n",
       " 'turkish',\n",
       " 'turn',\n",
       " 'type',\n",
       " 'understand',\n",
       " 'united',\n",
       " 'university',\n",
       " 'unix',\n",
       " 'unless',\n",
       " 'usa',\n",
       " 'use',\n",
       " 'used',\n",
       " 'user',\n",
       " 'using',\n",
       " 'usually',\n",
       " 'value',\n",
       " 'various',\n",
       " 'version',\n",
       " 'video',\n",
       " 'view',\n",
       " 'wa',\n",
       " 'want',\n",
       " 'wanted',\n",
       " 'war',\n",
       " 'water',\n",
       " 'way',\n",
       " 'weapon',\n",
       " 'week',\n",
       " 'went',\n",
       " 'western',\n",
       " 'white',\n",
       " 'widget',\n",
       " 'win',\n",
       " 'window',\n",
       " 'woman',\n",
       " 'word',\n",
       " 'work',\n",
       " 'working',\n",
       " 'world',\n",
       " 'worth',\n",
       " 'write',\n",
       " 'written',\n",
       " 'wrong',\n",
       " 'year',\n",
       " 'york',\n",
       " 'young']"
      ]
     },
     "execution_count": 51,
     "metadata": {},
     "output_type": "execute_result"
    }
   ],
   "source": [
    "# This is our first trail of getting the list of top 500 words with the goal of the most indicative features. \n",
    "# It doesn’t look perfect. Can we improve it? Yes, by the data preprocessing techniques in the next section.\n",
    "\n",
    "# maybe we should only allow items that consist only of letters. The posts contain names such as andrew as well. \n",
    "# We can filter names with the Names corpus from NLTK we just worked with. \n",
    "# Of course, with every filtering we apply, we have to make sure that we don't lose information. Finally Stemming and Lemmatization\n",
    "\n",
    "from sklearn.feature_extraction.text import CountVectorizer \n",
    "from sklearn.datasets import fetch_20newsgroups \n",
    "from nltk.corpus import names \n",
    "from nltk.stem import WordNetLemmatizer \n",
    "def letters_only(astr): \n",
    "    return astr.isalpha() \n",
    "cv = CountVectorizer(stop_words=\"english\", max_features=500) \n",
    "groups = fetch_20newsgroups() \n",
    "cleaned = [] \n",
    "all_names = set(names.words()) \n",
    "lemmatizer = WordNetLemmatizer()\n",
    "for post in groups.data:\n",
    "    for word in post.split():\n",
    "        word = word.lower()\n",
    "        if letters_only(word) and word not in all_names:\n",
    "                cleaned.append(' '.join([lemmatizer.lemmatize(word)])) \n",
    "    \n",
    "transformed=cv.fit_transform(cleaned) \n",
    "cv.get_feature_names()\n",
    " "
   ]
  },
  {
   "cell_type": "code",
   "execution_count": 55,
   "metadata": {},
   "outputs": [
    {
     "ename": "AttributeError",
     "evalue": "'KMeans' object has no attribute 'labels'",
     "output_type": "error",
     "traceback": [
      "\u001b[1;31m---------------------------------------------------------------------------\u001b[0m",
      "\u001b[1;31mAttributeError\u001b[0m                            Traceback (most recent call last)",
      "\u001b[1;32m<ipython-input-55-ef85a28a568a>\u001b[0m in \u001b[0;36m<module>\u001b[1;34m\u001b[0m\n\u001b[0;32m      3\u001b[0m \u001b[0mkm\u001b[0m\u001b[1;33m.\u001b[0m\u001b[0mfit\u001b[0m\u001b[1;33m(\u001b[0m\u001b[0mtransformed\u001b[0m\u001b[1;33m)\u001b[0m\u001b[1;33m\u001b[0m\u001b[1;33m\u001b[0m\u001b[0m\n\u001b[0;32m      4\u001b[0m \u001b[0mlabels\u001b[0m \u001b[1;33m=\u001b[0m \u001b[0mgroups\u001b[0m\u001b[1;33m.\u001b[0m\u001b[0mtarget\u001b[0m\u001b[1;33m\u001b[0m\u001b[1;33m\u001b[0m\u001b[0m\n\u001b[1;32m----> 5\u001b[1;33m \u001b[0mplt\u001b[0m\u001b[1;33m.\u001b[0m\u001b[0mscatter\u001b[0m\u001b[1;33m(\u001b[0m\u001b[0mlabels\u001b[0m\u001b[1;33m,\u001b[0m \u001b[0mkm\u001b[0m\u001b[1;33m.\u001b[0m\u001b[0mlabels\u001b[0m\u001b[1;33m(\u001b[0m\u001b[0mtransformed\u001b[0m\u001b[1;33m)\u001b[0m\u001b[1;33m)\u001b[0m\u001b[1;33m\u001b[0m\u001b[1;33m\u001b[0m\u001b[0m\n\u001b[0m\u001b[0;32m      6\u001b[0m \u001b[0mplt\u001b[0m\u001b[1;33m.\u001b[0m\u001b[0mxlabel\u001b[0m\u001b[1;33m(\u001b[0m\u001b[1;34m'Newsgroup'\u001b[0m\u001b[1;33m)\u001b[0m\u001b[1;33m\u001b[0m\u001b[1;33m\u001b[0m\u001b[0m\n\u001b[0;32m      7\u001b[0m \u001b[0mplt\u001b[0m\u001b[1;33m.\u001b[0m\u001b[0mylabel\u001b[0m\u001b[1;33m(\u001b[0m\u001b[1;34m'Cluster'\u001b[0m\u001b[1;33m)\u001b[0m\u001b[1;33m\u001b[0m\u001b[1;33m\u001b[0m\u001b[0m\n",
      "\u001b[1;31mAttributeError\u001b[0m: 'KMeans' object has no attribute 'labels'"
     ]
    }
   ],
   "source": [
    "from sklearn.cluster import KMeans\n",
    "km = KMeans(n_clusters=20) \n",
    "km.fit(transformed) \n",
    "labels = groups.target \n",
    "plt.scatter(labels, km.labels(transformed)) \n",
    "plt.xlabel('Newsgroup') \n",
    "plt.ylabel('Cluster') \n",
    "plt.show() "
   ]
  },
  {
   "cell_type": "code",
   "execution_count": null,
   "metadata": {},
   "outputs": [],
   "source": [
    "# One of the topic modeling algorithms is non-negative matrix factorization (NMF). \n",
    "# article about Python programming will have words such as class and function, \n",
    "# while a story about snakes will have words such as eggs and afraid.  \n",
    "# Documents usually have multiple topics, for instance, this recipe is about topic models and non-negative matrix factorization\n",
    "# We can, therefore, define an additive model for topics by assigning different weights to topics. \n",
    "\n",
    "from sklearn.decomposition import NMF \n",
    "all_names = set(names.words()) \n",
    "nmf = NMF(n_components=100, random_state=43).fit(transformed)\n",
    "for topic_idx, topic in enumerate(nmf.components_):\n",
    "    label = '{}: '.format(topic_idx)\n",
    "    for i in topic.argsort()[:-9:-1]:\n",
    "        print(label, \" \".join([cv.get_feature_names()[i]])) \n"
   ]
  },
  {
   "cell_type": "code",
   "execution_count": null,
   "metadata": {},
   "outputs": [],
   "source": []
  }
 ],
 "metadata": {
  "kernelspec": {
   "display_name": "Python 3",
   "language": "python",
   "name": "python3"
  },
  "language_info": {
   "codemirror_mode": {
    "name": "ipython",
    "version": 3
   },
   "file_extension": ".py",
   "mimetype": "text/x-python",
   "name": "python",
   "nbconvert_exporter": "python",
   "pygments_lexer": "ipython3",
   "version": "3.7.4"
  }
 },
 "nbformat": 4,
 "nbformat_minor": 2
}
